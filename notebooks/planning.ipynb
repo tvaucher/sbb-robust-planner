{
 "cells": [
  {
   "cell_type": "markdown",
   "metadata": {},
   "source": [
    "# Orient Express &ndash; Planning algorithm"
   ]
  },
  {
   "cell_type": "code",
   "execution_count": 1,
   "metadata": {},
   "outputs": [],
   "source": [
    "### IMPORTS\n",
    "import datetime\n",
    "\n",
    "import networkx as nx\n",
    "import pandas as pd\n",
    "from hdfs3 import HDFileSystem\n",
    "\n",
    "from orientexpress.planner import RoutePlanner\n",
    "from orientexpress.utils import parse_timestamp, print_timestamp, RouteNode\n",
    "from orientexpress.delay import Delay\n",
    "\n",
    "%load_ext autoreload\n",
    "%autoreload 2"
   ]
  },
  {
   "cell_type": "code",
   "execution_count": 2,
   "metadata": {},
   "outputs": [
    {
     "data": {
      "text/plain": [
       "(1880, 257883, 12534)"
      ]
     },
     "execution_count": 2,
     "metadata": {},
     "output_type": "execute_result"
    }
   ],
   "source": [
    "### HDFS COMMUNICATION\n",
    "hdfs = HDFileSystem(host='hdfs://iccluster044.iccluster.epfl.ch', port=8020, user='ebouille')\n",
    "\n",
    "transfers = pd.DataFrame()\n",
    "for path in hdfs.ls('/user/tvaucher/transfers'):\n",
    "    if not 'SUCCESS' in path:\n",
    "        with hdfs.open(path) as f:\n",
    "            transfers = transfers.append(pd.read_parquet(f))\n",
    "            \n",
    "edges = pd.DataFrame()\n",
    "for path in hdfs.ls('/user/tvaucher/edges'):\n",
    "    if not 'SUCCESS' in path:\n",
    "        with hdfs.open(path) as f:\n",
    "            edges = edges.append(pd.read_parquet(f))\n",
    "\n",
    "stops = pd.DataFrame()\n",
    "for path in hdfs.ls('/user/tvaucher/stops'):\n",
    "    if not 'SUCCESS' in path:\n",
    "        with hdfs.open(path) as f:\n",
    "            stops = stops.append(pd.read_parquet(f))\n",
    "\n",
    "len(stops), len(edges), len(transfers)"
   ]
  },
  {
   "cell_type": "markdown",
   "metadata": {},
   "source": [
    "## 1. Building the public transport network graph\n",
    "\n",
    "We want to represent the public transport network as a directed weighted multi-edge graph. Each node represents a stop, with a stop ID. Each edge represents a trip or walking transfer between any two stops (less than 500m from each other).\n",
    "\n",
    "We construct the graph below, starting by adding nodes, and then both types of edges.\n",
    "\n",
    "Each **node**, representing a stop, possesses the following attributes:\n",
    "\n",
    "- `stop_id`: stop identifier\n",
    "- `stop_name`: Full name of the stop (not unique because different platforms)\n",
    "- `stop_lat`, `stop_lon`: GPS coordinates of the node location\n",
    "\n",
    "Each **edge**, representing a trip or walking transfer, possesses the following attributes:\n",
    "\n",
    "Transfers:\n",
    "- source node, target node identifiers: `stop_id`\n",
    "- `distance`: distance between stops, in meters\n",
    "- `t_time`: transfer time\n",
    "\n",
    "Trips:\n",
    "- source node, target node identifiers (consider stop A -> stop B): `stop_id`\n",
    "- `prev_dep_time`: departure time from stop prior to departure stop id (departure time to arrive at stop A)\n",
    "- `arr_time`: arrival time at stop B\n",
    "- `duration`: duration of trip, in seconds\n",
    "- `dep_time`: departure time from stop A\n",
    "- `trip_id`: trip identifier\n",
    "- `trip_headsign`: destination name in which the transport is headed\n",
    "- `route_desc`: type of transport (Zug, Tram, Bus, etc.)\n",
    "- `route_short_name`: short name of the route\n",
    "- `stop_sequence`: number of stop in order of direction the transport is headed"
   ]
  },
  {
   "cell_type": "markdown",
   "metadata": {},
   "source": [
    "#### 1.1 Nodes"
   ]
  },
  {
   "cell_type": "code",
   "execution_count": 3,
   "metadata": {},
   "outputs": [
    {
     "data": {
      "text/html": [
       "<div>\n",
       "<style scoped>\n",
       "    .dataframe tbody tr th:only-of-type {\n",
       "        vertical-align: middle;\n",
       "    }\n",
       "\n",
       "    .dataframe tbody tr th {\n",
       "        vertical-align: top;\n",
       "    }\n",
       "\n",
       "    .dataframe thead th {\n",
       "        text-align: right;\n",
       "    }\n",
       "</style>\n",
       "<table border=\"1\" class=\"dataframe\">\n",
       "  <thead>\n",
       "    <tr style=\"text-align: right;\">\n",
       "      <th></th>\n",
       "      <th>stop_id</th>\n",
       "      <th>stop_name</th>\n",
       "      <th>stop_lat</th>\n",
       "      <th>stop_lon</th>\n",
       "    </tr>\n",
       "  </thead>\n",
       "  <tbody>\n",
       "    <tr>\n",
       "      <th>1645</th>\n",
       "      <td>8591279</td>\n",
       "      <td>Zürich, Morgental</td>\n",
       "      <td>47.343948</td>\n",
       "      <td>8.530141</td>\n",
       "    </tr>\n",
       "    <tr>\n",
       "      <th>645</th>\n",
       "      <td>8575941</td>\n",
       "      <td>Lindau, Eschikon</td>\n",
       "      <td>47.448078</td>\n",
       "      <td>8.682289</td>\n",
       "    </tr>\n",
       "    <tr>\n",
       "      <th>230</th>\n",
       "      <td>8503102:0:3</td>\n",
       "      <td>Erlenbach ZH</td>\n",
       "      <td>47.305848</td>\n",
       "      <td>8.591505</td>\n",
       "    </tr>\n",
       "    <tr>\n",
       "      <th>1717</th>\n",
       "      <td>8591358</td>\n",
       "      <td>Zürich, Segantinistrasse</td>\n",
       "      <td>47.407446</td>\n",
       "      <td>8.489969</td>\n",
       "    </tr>\n",
       "    <tr>\n",
       "      <th>255</th>\n",
       "      <td>8503128:0:4</td>\n",
       "      <td>Dübendorf</td>\n",
       "      <td>47.400137</td>\n",
       "      <td>8.623405</td>\n",
       "    </tr>\n",
       "  </tbody>\n",
       "</table>\n",
       "</div>"
      ],
      "text/plain": [
       "          stop_id                 stop_name   stop_lat  stop_lon\n",
       "1645      8591279         Zürich, Morgental  47.343948  8.530141\n",
       "645       8575941          Lindau, Eschikon  47.448078  8.682289\n",
       "230   8503102:0:3              Erlenbach ZH  47.305848  8.591505\n",
       "1717      8591358  Zürich, Segantinistrasse  47.407446  8.489969\n",
       "255   8503128:0:4                 Dübendorf  47.400137  8.623405"
      ]
     },
     "execution_count": 3,
     "metadata": {},
     "output_type": "execute_result"
    }
   ],
   "source": [
    "stops.sample(5)"
   ]
  },
  {
   "cell_type": "code",
   "execution_count": 4,
   "metadata": {},
   "outputs": [
    {
     "name": "stdout",
     "output_type": "stream",
     "text": [
      "Name: \n",
      "Type: MultiDiGraph\n",
      "Number of nodes: 1880\n",
      "Number of edges: 0\n",
      "Average in degree:   0.0000\n",
      "Average out degree:   0.0000\n"
     ]
    }
   ],
   "source": [
    "G = nx.MultiDiGraph()\n",
    "G.add_nodes_from(stops.stop_id)\n",
    "print(nx.info(G))"
   ]
  },
  {
   "cell_type": "markdown",
   "metadata": {},
   "source": [
    "#### 1.2.1 Trips"
   ]
  },
  {
   "cell_type": "code",
   "execution_count": 5,
   "metadata": {},
   "outputs": [],
   "source": [
    "edges.apply(lambda row: G.add_edge(row['stop_id'], row['prev_stop_id'],\n",
    "                                   prev_dep_time=parse_timestamp(row['prev_departure_time']),\n",
    "                                   arr_time=parse_timestamp(row['arrival_time']),\n",
    "                                   duration=row[\"duration\"],\n",
    "                                   dep_time=parse_timestamp(row['departure_time']),\n",
    "                                   trip_id=row['trip_id'],\n",
    "                                   trip_headsign=row['trip_headsign'],\n",
    "                                   route_desc=row['route_desc'],\n",
    "                                   route_short_name=row['route_short_name'],\n",
    "                                   stop_sequence=row['stop_sequence'],\n",
    "                                  ), axis=1);"
   ]
  },
  {
   "cell_type": "code",
   "execution_count": 6,
   "metadata": {},
   "outputs": [
    {
     "name": "stdout",
     "output_type": "stream",
     "text": [
      "Name: \n",
      "Type: MultiDiGraph\n",
      "Number of nodes: 1880\n",
      "Number of edges: 257883\n",
      "Average in degree: 137.1718\n",
      "Average out degree: 137.1718\n"
     ]
    }
   ],
   "source": [
    "print(nx.info(G))"
   ]
  },
  {
   "cell_type": "markdown",
   "metadata": {},
   "source": [
    "#### 1.2.2 Transfers"
   ]
  },
  {
   "cell_type": "code",
   "execution_count": 7,
   "metadata": {},
   "outputs": [
    {
     "data": {
      "text/html": [
       "<div>\n",
       "<style scoped>\n",
       "    .dataframe tbody tr th:only-of-type {\n",
       "        vertical-align: middle;\n",
       "    }\n",
       "\n",
       "    .dataframe tbody tr th {\n",
       "        vertical-align: top;\n",
       "    }\n",
       "\n",
       "    .dataframe thead th {\n",
       "        text-align: right;\n",
       "    }\n",
       "</style>\n",
       "<table border=\"1\" class=\"dataframe\">\n",
       "  <thead>\n",
       "    <tr style=\"text-align: right;\">\n",
       "      <th></th>\n",
       "      <th>from_stop_id</th>\n",
       "      <th>to_stop_id</th>\n",
       "      <th>distance</th>\n",
       "      <th>t_time</th>\n",
       "    </tr>\n",
       "  </thead>\n",
       "  <tbody>\n",
       "    <tr>\n",
       "      <th>70</th>\n",
       "      <td>8591088</td>\n",
       "      <td>8591267</td>\n",
       "      <td>451.446747</td>\n",
       "      <td>661.736096</td>\n",
       "    </tr>\n",
       "    <tr>\n",
       "      <th>49</th>\n",
       "      <td>8591050</td>\n",
       "      <td>8591113</td>\n",
       "      <td>471.465973</td>\n",
       "      <td>685.759167</td>\n",
       "    </tr>\n",
       "    <tr>\n",
       "      <th>63</th>\n",
       "      <td>8591326</td>\n",
       "      <td>8591292</td>\n",
       "      <td>229.558289</td>\n",
       "      <td>395.469946</td>\n",
       "    </tr>\n",
       "    <tr>\n",
       "      <th>50</th>\n",
       "      <td>8503203:0:1</td>\n",
       "      <td>8502209:0:1</td>\n",
       "      <td>333.722839</td>\n",
       "      <td>520.467407</td>\n",
       "    </tr>\n",
       "    <tr>\n",
       "      <th>25</th>\n",
       "      <td>8587860</td>\n",
       "      <td>8580872</td>\n",
       "      <td>382.974335</td>\n",
       "      <td>579.569202</td>\n",
       "    </tr>\n",
       "  </tbody>\n",
       "</table>\n",
       "</div>"
      ],
      "text/plain": [
       "   from_stop_id   to_stop_id    distance      t_time\n",
       "70      8591088      8591267  451.446747  661.736096\n",
       "49      8591050      8591113  471.465973  685.759167\n",
       "63      8591326      8591292  229.558289  395.469946\n",
       "50  8503203:0:1  8502209:0:1  333.722839  520.467407\n",
       "25      8587860      8580872  382.974335  579.569202"
      ]
     },
     "execution_count": 7,
     "metadata": {},
     "output_type": "execute_result"
    }
   ],
   "source": [
    "transfers.sample(5)"
   ]
  },
  {
   "cell_type": "code",
   "execution_count": 8,
   "metadata": {},
   "outputs": [],
   "source": [
    "transfers.apply(lambda row: G.add_edge(row['to_stop_id'], row['from_stop_id'],\n",
    "                                       trip_id=f\"TRANSFER_{row['from_stop_id']}_{row['to_stop_id']}\",\n",
    "                                       t_time=row['t_time']), axis=1);"
   ]
  },
  {
   "cell_type": "code",
   "execution_count": 9,
   "metadata": {},
   "outputs": [
    {
     "name": "stdout",
     "output_type": "stream",
     "text": [
      "Name: \n",
      "Type: MultiDiGraph\n",
      "Number of nodes: 1880\n",
      "Number of edges: 270417\n",
      "Average in degree: 143.8388\n",
      "Average out degree: 143.8388\n"
     ]
    }
   ],
   "source": [
    "print(nx.info(G))"
   ]
  },
  {
   "cell_type": "markdown",
   "metadata": {},
   "source": [
    "#### 1.3 Save graph"
   ]
  },
  {
   "cell_type": "code",
   "execution_count": 10,
   "metadata": {},
   "outputs": [],
   "source": [
    "# Save the graph\n",
    "nx.write_gpickle(G, '../data/sbb_graph.gpickle')"
   ]
  },
  {
   "cell_type": "code",
   "execution_count": 11,
   "metadata": {},
   "outputs": [],
   "source": [
    "# Save the stops\n",
    "stops.to_parquet('../data/stops.parquet.gz', compression='gzip')"
   ]
  },
  {
   "cell_type": "code",
   "execution_count": 12,
   "metadata": {},
   "outputs": [
    {
     "name": "stdout",
     "output_type": "stream",
     "text": [
      "bus_delays loaded:  3691 lines\n",
      "bus_delays_without_time loaded:  1238 lines\n",
      "tram_delays loaded:  552 lines\n",
      "train_delays loaded:  472 lines\n",
      "train_delays_without_type loaded:  282 lines\n"
     ]
    }
   ],
   "source": [
    "from orientexpress.delay import to_parquet\n",
    "to_parquet()"
   ]
  },
  {
   "cell_type": "markdown",
   "metadata": {},
   "source": [
    "## 2. Testing the algorithm"
   ]
  },
  {
   "cell_type": "code",
   "execution_count": 3,
   "metadata": {},
   "outputs": [
    {
     "name": "stdout",
     "output_type": "stream",
     "text": [
      "Downloading LFS objects: 100% (2/2), 38 MB | 0 B/s                              \r"
     ]
    }
   ],
   "source": [
    "!git lfs pull"
   ]
  },
  {
   "cell_type": "code",
   "execution_count": 4,
   "metadata": {},
   "outputs": [],
   "source": [
    "# load for testing purposes\n",
    "G = nx.read_gpickle('../data/sbb_graph.gpickle')\n",
    "stops = pd.read_parquet('../data/stops.parquet.gz')\n",
    "delay = Delay()\n",
    "\n",
    "# Check orientexpress.planner, orientexpress.utils, orientexpress.delay"
   ]
  },
  {
   "cell_type": "markdown",
   "metadata": {},
   "source": [
    "We test how well the algorithm performs, by comparing our proposed route to official CFF proposed routes and route outputs proposed on [Slack](https://app.slack.com/client/TST7DE1RN/C012AMGG10T/thread/C012AMGG10T-1589637712.147300) by the teaching team."
   ]
  },
  {
   "cell_type": "markdown",
   "metadata": {},
   "source": [
    "### 2.1 Test query: From Zürich HB (8503000) to Zürich, Auzelg (8591049), arrival by 12:30:00\n",
    "\n",
    "#### Proposed routes from CFF:\n",
    "\n",
    "<div style=\"text-align:center\"><img src=\"../images/cff_screenshot_1.png\" width=\"600\" /></div>\n",
    "\n",
    "Details of the latest route proposed by CFF:\n",
    "\n",
    "<div style=\"text-align:center\"><img src=\"../images/cff_screenshot_2.png\" width=\"300\"/></div>\n",
    "\n",
    "Details of the second latest route proposed by CFF:\n",
    "\n",
    "<div style=\"text-align:center\"><img src=\"../images/cff_screenshot_3.png\" width=\"300\"/></div>\n",
    "\n",
    "\n",
    "#### Proposed routes from teaching team:\n",
    "\n",
    "Route 1 (corresponds to latest route proposed by CFF):\n",
    "- 20.TA.26-9-A-j19-1.2.H: 8503000:0:41/42 at 12:07:00 ~ 8503310:0:3 at 12:17:00\n",
    "- Walking: 8503310:0:3 ~ 8590620\n",
    "- 168.TA.26-12-A-j19-1.2.H: 8590620 at 12:23:00 ~ 8591049 at 12:29:00\n",
    "\n",
    "Route 2 (corresponds to second latest route proposed by CFF):\n",
    "- 32.TA.80-159-Y-j19-1.8.H: 8503000:0:5 at 12:05:00 ~ 8503006:0:6 at 12:11:00\n",
    "- Walking: 8503006:0:6 ~ 8580449\n",
    "- 1914.TA.26-11-A-j19-1.27.R: 8580449 at 12:15:00 ~ 8591049 at 12:24:00\n",
    "\n",
    "#### Proposed routes by Orient Express:\n",
    "**50% threshold**\n",
    "<div style=\"text-align:center\"><img src=\"../images/hb_auzelg_50.png\" width=\"800\" /></div>\n",
    "\n",
    "**95% threshold**\n",
    "<div style=\"text-align:center\"><img src=\"../images/hb_auzelg_95.png\" width=\"800\" /></div>\n",
    "\n",
    "We propose routes with confidence thresholds set to 50% and 95%. We observe that the 50% one gives us the route proposed by the CFF and the teaching team. But as the train arrive at 12:29 and has an expected delay of 1'18\", it makes sense that the probability of missing the last connection is high. Our second solution makes you leave slightly earlier but has a much higher probability of success. Awesome!"
   ]
  },
  {
   "cell_type": "markdown",
   "metadata": {},
   "source": [
    "### 2.2 Test query: Zürich, ETH/Universitätsspital (8591123) Zürich, Enge (8503010), arrival by 18:00:00\n",
    "\n",
    "#### Proposed routes from CFF:\n",
    "\n",
    "<div style=\"text-align:center\"><img src=\"../images/cff_screenshot_4.png\" width=\"800\" /></div>\n",
    "\n",
    "#### Proposed route by Orient Express:\n",
    "\n",
    "**50% threshold**\n",
    "<div style=\"text-align:center\"><img src=\"../images/ETH_Enge_50.png\" width=\"800\" /></div>\n",
    "\n",
    "**90% threshold**\n",
    "<div style=\"text-align:center\"><img src=\"../images/ETH_Enge_90.png\" width=\"800\" /></div>\n",
    "\n",
    "We propose a routes with the confidence threshold set to 50%. The route is the same as the last one proposed by the CFF. It seems like our results are pretty good. \n",
    "\n",
    "Increasing the threshold to 90% gives you a route that makes you leave 2 minutes earlier but gives you a 97% probability and you don't need to change! And it's not even suggested by the CFF."
   ]
  },
  {
   "cell_type": "markdown",
   "metadata": {},
   "source": [
    "### 2.3 Test query: Zürich, HB (8503000) Kloten, Kaserne Ost (8573233), arrival by 18:00:00\n",
    "\n",
    "You're a [Richtstrahlpioner](https://www.miljobs.ch/fr/jobs-a-z/detail/job/111/show/) that needs to go back in service and don't want to get shouted at because you arrived late? We got you too!\n",
    "\n",
    "#### Proposed routes from CFF:\n",
    "\n",
    "<div style=\"text-align:center\"><img src=\"../images/cff_hb_kloten.png\" width=\"800\" /></div>\n",
    "\n",
    "#### Proposed route by Orient Express:\n",
    "\n",
    "<div style=\"text-align:center\"><img src=\"../images/hb_kloten_90.png\" width=\"800\" /></div>\n",
    "\n",
    "We propose a routes with the confidence threshold set to 90%. The route is the same as the last one proposed by the CFF. This result seems pretty robust too.\n",
    "\n",
    "### 2.4 Conclusion\n",
    "\n",
    "In conclusion, we see that our results seem reasonable. We produce feasible plan, i.e. the ordering of the trips is correct. We don't suggest that you take trips that would make you travel back in time or that you can't realistically take. We take into account transfer time when computing the probabilities of catching the connections making it as realistic as possible... unlike the CFF that like you being stranded for 30 minutes in Bern when you can't catch the IR15 to Lausanne because the IC8 from Zürich is (always) delayed. Finally, increasing the probability threshold gives you slighty slower routes but where you can see which part of the proposed journey got improved on. We invite you to try out yourself by changing `/lab` to `/voila` in the URL and navigate to `notebooks/Viz.ipynb`. Bon voyage!"
   ]
  }
 ],
 "metadata": {
  "kernelspec": {
   "display_name": "Python 3",
   "language": "python",
   "name": "python3"
  },
  "language_info": {
   "codemirror_mode": {
    "name": "ipython",
    "version": 3
   },
   "file_extension": ".py",
   "mimetype": "text/x-python",
   "name": "python",
   "nbconvert_exporter": "python",
   "pygments_lexer": "ipython3",
   "version": "3.7.6"
  }
 },
 "nbformat": 4,
 "nbformat_minor": 4
}
