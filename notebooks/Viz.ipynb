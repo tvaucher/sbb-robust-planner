{
 "cells": [
  {
   "cell_type": "code",
   "execution_count": 1,
   "metadata": {},
   "outputs": [],
   "source": [
    "!git lfs pull > /dev/null"
   ]
  },
  {
   "cell_type": "code",
   "execution_count": 2,
   "metadata": {},
   "outputs": [],
   "source": [
    "import datetime\n",
    "import re\n",
    "\n",
    "import ipywidgets as widgets\n",
    "import ipymaterialui as mui\n",
    "import networkx as nx\n",
    "import pandas as pd\n",
    "\n",
    "from orientexpress.planner import RoutePlanner\n",
    "from orientexpress.utils import print_timestamp\n",
    "from orientexpress.delay import Delay\n",
    "\n",
    "%load_ext autoreload\n",
    "%autoreload 2"
   ]
  },
  {
   "cell_type": "code",
   "execution_count": 3,
   "metadata": {},
   "outputs": [
    {
     "data": {
      "application/vnd.jupyter.widget-view+json": {
       "model_id": "2c96e7752965406688ec99b7fed445f4",
       "version_major": 2,
       "version_minor": 0
      },
      "text/plain": [
       "Image(value=b'\\x89PNG\\r\\n\\x1a\\n\\x00\\x00\\x00\\rIHDR\\x00\\x00\\x06@\\x00\\x00\\x01\\xf4\\x08\\x06\\x00\\x00\\x00e\\xf0\\xe1J\\x…"
      ]
     },
     "metadata": {},
     "output_type": "display_data"
    }
   ],
   "source": [
    "COLOR = \"#e5191d\"\n",
    "\n",
    "# Read graph and stations data\n",
    "stops = pd.read_parquet('../data/stops.parquet.gz')\n",
    "G = nx.read_gpickle('../data/sbb_graph.gpickle')\n",
    "delay = Delay()\n",
    "\n",
    "with open(\"../data/pikachu_loading.gif\", \"rb\") as f:\n",
    "    loading_img = f.read()\n",
    "\n",
    "pikachu_loading = widgets.Image(value=loading_img, format='gif')\n",
    "\n",
    "with open(\"../data/orient-express.png\", \"rb\") as f:\n",
    "    img = f.read()\n",
    "\n",
    "widgets.Image(value=img, layout=widgets.Layout(width=\"99%\"))"
   ]
  },
  {
   "cell_type": "code",
   "execution_count": 4,
   "metadata": {},
   "outputs": [
    {
     "data": {
      "application/vnd.jupyter.widget-view+json": {
       "model_id": "f36fded0db364239a587e6d5a79f0190",
       "version_major": 2,
       "version_minor": 0
      },
      "text/plain": [
       "HBox(children=(Combobox(value='', description='Start station', ensure_option=True, layout=Layout(height='100px…"
      ]
     },
     "metadata": {},
     "output_type": "display_data"
    }
   ],
   "source": [
    "stations_list = stops.groupby('stop_name').stop_id.apply(lambda x: sorted(x, key=len)[0])\\\n",
    "                     .reset_index().apply(lambda row: f\"{row['stop_name']} ({row['stop_id']})\", axis=1).to_list()\n",
    "\n",
    "start = widgets.Combobox(placeholder='Choose a Starting Point',\n",
    "                         options=stations_list,\n",
    "                         description='Start station',\n",
    "                         ensure_option=True,\n",
    "                         layout=widgets.Layout(padding='2rem 1rem', width=\"auto\", height='100px'))\n",
    "\n",
    "end = widgets.Combobox(placeholder='Choose a Destination',\n",
    "                       options=stations_list,\n",
    "                       description='Destination',\n",
    "                       ensure_option=True,\n",
    "                       layout=widgets.Layout(padding='2rem 1rem', width=\"auto\", height='100px'))\n",
    "\n",
    "time_picker = mui.TextField(type=\"time\", label=\"Arrival time\", value=\"12:30\", style_={\"width\": \"100px\", \"margin\": \"1rem 2rem\"})\n",
    "\n",
    "confidence = widgets.FloatSlider(value=90, min=50, max=100, step=0.1, description=\"Confidence\", layout=widgets.Layout(padding='2rem 0 2rem 1rem', height=\"100px\"))\n",
    "percent_label = widgets.Label('%', layout=widgets.Layout(padding='2.4rem 1rem 2rem 0', margin=\"0 0 0 -1.2rem\", height=\"100px\"))\n",
    "\n",
    "widgets_group = widgets.HBox((start, end, time_picker, confidence, percent_label), layout=widgets.Layout(width=\"80%\", margin=\"auto\"))\n",
    "widgets_group"
   ]
  },
  {
   "cell_type": "code",
   "execution_count": 5,
   "metadata": {},
   "outputs": [],
   "source": [
    "def get_station_name(stop_id):\n",
    "    return stops[stops.stop_id == stop_id].iloc[0]['stop_name']\n",
    "\n",
    "def get_pretty_time(s):\n",
    "    s = int(round(s))\n",
    "    minutes, seconds = divmod(s, 60)\n",
    "    hours, minutes = divmod(minutes, 60)\n",
    "    if hours > 0:\n",
    "        return f'{hours}h{minutes:02d}\\'{seconds:02d}\"'\n",
    "    elif minutes > 0:\n",
    "        return f'{minutes}\\'{seconds:02d}\"'\n",
    "    else:\n",
    "        return f'{seconds}\"'\n",
    "\n",
    "def get_small_widget(text):\n",
    "    return mui.Html(tag=\"span\", children=[text], style_={\"font-size\":\"10px\"})\n",
    "\n",
    "def get_station_id_widget(station_id):\n",
    "    return get_small_widget(f\" ({station_id})\")\n",
    "\n",
    "def get_arrival_time_widget(arr_time):\n",
    "    return mui.Html(tag='i', style_={'font-size': '0.9em'}, children=[print_timestamp(arr_time)])\n",
    "\n",
    "def get_arrival_station_widget(station_id):\n",
    "    return mui.Html(tag='i', style_={'font-size': '0.9em'}, children=[get_station_name(station_id), get_station_id_widget(station_id)])\n",
    "\n",
    "def get_delay_widget(delay, is_last):\n",
    "    if not delay:\n",
    "        return []\n",
    "    expected_delay, proba = delay\n",
    "    text = f\"Catch next: {proba:.2%}\" if not is_last else f\"Before deadline: {proba:.2%}\"\n",
    "    return [mui.Html(tag='i', children=[f\"Expected: {get_pretty_time(expected_delay)}\"]),\n",
    "            mui.Html(tag='br'),\n",
    "            mui.Html(tag='span', style_={'font-size': '0.9em'}, children=[text])]\n",
    "\n",
    "def is_last(i, path, route):\n",
    "    if i < len(path) - 3:\n",
    "        return False\n",
    "    return (i == len(path) - 3 and route[path[-2]][path[-1]][\"trip_id\"].startswith(\"TRANSFER\")) or (i == len(path) - 2)\n",
    "\n",
    "GRAY = \"#f8f8f8\"\n",
    "\n",
    "def get_rows(path, route, proba):\n",
    "    rows = []\n",
    "    current_trip_id = ''\n",
    "    dep_time, arr_time = '', ''\n",
    "    for i, (station1, station2) in enumerate(zip(path, path[1:])):\n",
    "        trip_data = route[station1][station2]\n",
    "        if i == 0:\n",
    "            dep_time = trip_data['dep_time']\n",
    "        if trip_data['trip_id'].startswith(\"TRANSFER\"):\n",
    "            time = mui.TableCell(children=[mui.Html(tag='i', children=[get_pretty_time(trip_data['t_time'])]),\n",
    "                                           mui.Html(tag='br'), 'Leave latest: ', print_timestamp(trip_data['dep_time'])])\n",
    "            station_extra = [f\" from {get_station_name(station1)}\", get_station_id_widget(station1)] if i == 0 else ''\n",
    "            stations = mui.TableCell(children=[mui.Icon(children=\"directions_walk\", style_={'position': 'relative', 'top': '5px'}), \" Walk\", *station_extra])\n",
    "            rows.append(mui.TableRow(style_={\"background-color\": GRAY}, children=[time, stations, mui.TableCell()]))\n",
    "            current_trip_id = ''\n",
    "            if arr_time != '':\n",
    "                arr_time += datetime.timedelta(seconds=trip_data['t_time'])\n",
    "        else:\n",
    "            trip_info = trip_data['trip_info']\n",
    "            arr_time = trip_info['arr_time']\n",
    "            if trip_data['trip_id'] != current_trip_id:\n",
    "                current_trip_id = trip_data['trip_id']\n",
    "                time = mui.TableCell(children=[mui.Html(tag='b', children=[print_timestamp(trip_data['dep_time'])]),\n",
    "                                               mui.Html(tag='br'), mui.Html(tag='br'),\n",
    "                                               get_arrival_time_widget(trip_info['arr_time'])])\n",
    "                stations = mui.TableCell(children=[mui.Html(tag='b', children=[get_station_name(station1), get_station_id_widget(station1)]),\n",
    "                                                   mui.Html(tag='br'),\n",
    "                                                   mui.Html(tag='span', style_={'padding-left': '1em', 'font-size': '0.9em'}, children=[\n",
    "                                                       f\"{trip_info['route_desc']} {trip_info['route_short_name']} headed to {trip_info['trip_headsign']} \",\n",
    "                                                       get_small_widget(f\"({trip_data['trip_id']})\")\n",
    "                                                   ]),\n",
    "                                                   mui.Html(tag='br'),\n",
    "                                                   get_arrival_station_widget(station2)])\n",
    "                delay = mui.TableCell(children=get_delay_widget(trip_info.get(\"delay\"), is_last(i, path, route)))\n",
    "                rows.append(mui.TableRow(children=[time, stations, delay]))\n",
    "            else:\n",
    "                time = mui.TableCell(children=[print_timestamp(trip_data['dep_time']),\n",
    "                                               mui.Html(tag='br'), get_arrival_time_widget(trip_info['arr_time'])])\n",
    "\n",
    "                stations = mui.TableCell(children=[get_station_name(station1), get_station_id_widget(station1),\n",
    "                                                   mui.Html(tag='br'),\n",
    "                                                   get_arrival_station_widget(station2)])\n",
    "                delay = mui.TableCell(children=get_delay_widget(trip_info.get(\"delay\"), is_last(i, path, route)))\n",
    "                rows.append(mui.TableRow(children=[time, stations, delay]))\n",
    "    final_proba = mui.TableCell(children=[f\"Success probability: {proba:.2%}\"])\n",
    "    total_travel_time = (arr_time - dep_time).total_seconds()\n",
    "    rows.append(mui.TableRow(children=[mui.TableCell(children=[f\"Total time: {get_pretty_time(total_travel_time)}\"]),\n",
    "                                       mui.TableCell(children=[mui.Html(tag='b', children=[get_station_name(path[-1]),\n",
    "                                                                                           get_station_id_widget(path[-1])])]),\n",
    "                                       final_proba]))\n",
    "    return rows\n",
    "\n",
    "def draw_table(rows):\n",
    "    return mui.Table(children=[mui.TableHead(children=[mui.TableRow(children=[mui.TableCell(children=['Time']),\n",
    "                                                                              mui.TableCell(children=['Station']),\n",
    "                                                                              mui.TableCell(children=['Delay'])])]),\n",
    "                               mui.TableBody(children=rows)])"
   ]
  },
  {
   "cell_type": "code",
   "execution_count": 6,
   "metadata": {},
   "outputs": [
    {
     "data": {
      "application/vnd.jupyter.widget-view+json": {
       "model_id": "51c895b2607a49a09ff5888bb2b806e6",
       "version_major": 2,
       "version_minor": 0
      },
      "text/plain": [
       "Html(children=Button(center_ripple=True, children=['Get me a trip', Icon(children='commute')], style_={'float'…"
      ]
     },
     "metadata": {},
     "output_type": "display_data"
    }
   ],
   "source": [
    "output = mui.Html(tag='div', children='', style_={\"width\" :\"80%\", \"margin\":\"auto\"})\n",
    "\n",
    "def get_error_widget(text):\n",
    "    return mui.Html(tag='div', style_={\"width\": \"80%\", \"margin\": \"auto\",\n",
    "                                       \"color\": \"#D8000C\", \"background-color\": \"#FFBABA\",\n",
    "                                       \"border\": \"2px solid\", \"border-radius\": \"10px\",\n",
    "                                       \"padding\": \"0.5em\", \"font-size\": \"1.1em\", \"display\": \"flex\",\"align-items\": \"center\"},\n",
    "                     children=[mui.Icon(children=\"error_outline\", style_={\"margin-right\": \"0.25em\"}), text])\n",
    "\n",
    "def extract_id(text):\n",
    "    try:\n",
    "        return re.search(r'\\(([^)]+)\\)', text).group(1)\n",
    "    except:\n",
    "        return None\n",
    "\n",
    "def process(widget, event, data):\n",
    "    # Parse args\n",
    "    threshold = confidence.value / 100\n",
    "    if threshold == 1:\n",
    "        output.children = get_error_widget(f\"You can never be 100% sure to be always on time 😉\")\n",
    "        return\n",
    "   \n",
    "    start_id = extract_id(start.value)\n",
    "    end_id = extract_id(end.value)\n",
    "    if not start_id or not end_id:\n",
    "        output.children = get_error_widget(f\"Illegal start ({start_id}) or end station ({end_id})\")\n",
    "        return\n",
    "    \n",
    "    output.children = mui.Html(tag=\"div\", children=[pikachu_loading], style_={\"width\" :\"100px\", \"margin\":\"auto\"})\n",
    "    \n",
    "    # Get route\n",
    "    planner = RoutePlanner(G, start_id, end_id, time_picker.value)\n",
    "    path, route, proba = planner.plan_robust(threshold, delay, stops, info=True, print_path=False)\n",
    "    if not path or not route:\n",
    "        msg = f\"No path found from {get_station_name(start_id)} to {get_station_name(end_id)}\"       \n",
    "        output.children = get_error_widget(msg)\n",
    "        return\n",
    "    not_robust_enough = [get_error_widget(\"No robust enough path found within 20 iterations. Try to reduce the confidence. Here's the most robust path we found for you.\")]\\\n",
    "                        if proba < threshold else []\n",
    "    output.children = not_robust_enough + [mui.Html(tag=\"h3\", children=[f\"From {get_station_name(start_id)} \",\n",
    "                                                                        get_station_id_widget(start_id),\n",
    "                                                                        f\" to {get_station_name(end_id)} \",\n",
    "                                                                        get_station_id_widget(end_id),\n",
    "                                                                        f\" by {time_picker.value} with probability bigger than {confidence.value:.2f}%\"]),\n",
    "                                                    draw_table(get_rows(path, route, proba))]\n",
    "\n",
    "execute = mui.Button(center_ripple=True,\n",
    "                     children=['Get me a trip', mui.Icon(children='commute')],\n",
    "                     variant=\"contained\",\n",
    "                     style_={\"float\": \"right\", \"background-color\": COLOR, \"color\": \"white\"})\n",
    "execute.on_event('onClick', process)\n",
    "layout_button = mui.Html(tag=\"div\", children=execute, style_={\"width\" :\"80%\", \"margin\":\"auto\"})\n",
    "layout_button"
   ]
  },
  {
   "cell_type": "code",
   "execution_count": 7,
   "metadata": {},
   "outputs": [
    {
     "data": {
      "application/vnd.jupyter.widget-view+json": {
       "model_id": "ab666db65d2f4966ac3d341731d4f1f2",
       "version_major": 2,
       "version_minor": 0
      },
      "text/plain": [
       "Divider()"
      ]
     },
     "metadata": {},
     "output_type": "display_data"
    }
   ],
   "source": [
    "mui.Divider()"
   ]
  },
  {
   "cell_type": "code",
   "execution_count": 8,
   "metadata": {},
   "outputs": [
    {
     "data": {
      "application/vnd.jupyter.widget-view+json": {
       "model_id": "f424013f29e4410c960bf94deb25e5c8",
       "version_major": 2,
       "version_minor": 0
      },
      "text/plain": [
       "Html(children='', style_={'width': '80%', 'margin': 'auto'}, tag='div')"
      ]
     },
     "metadata": {},
     "output_type": "display_data"
    }
   ],
   "source": [
    "output"
   ]
  }
 ],
 "metadata": {
  "kernelspec": {
   "display_name": "Python 3",
   "language": "python",
   "name": "python3"
  },
  "language_info": {
   "codemirror_mode": {
    "name": "ipython",
    "version": 3
   },
   "file_extension": ".py",
   "mimetype": "text/x-python",
   "name": "python",
   "nbconvert_exporter": "python",
   "pygments_lexer": "ipython3",
   "version": "3.7.6"
  }
 },
 "nbformat": 4,
 "nbformat_minor": 4
}
