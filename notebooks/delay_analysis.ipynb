{
 "cells": [
  {
   "cell_type": "markdown",
   "metadata": {},
   "source": [
    "# Orient Express &ndash; Delay modeling"
   ]
  },
  {
   "cell_type": "code",
   "execution_count": 1,
   "metadata": {},
   "outputs": [
    {
     "data": {
      "text/html": [
       "Current session configs: <tt>{'conf': {'spark.app.name': 'orientexpress'}, 'driverMemory': '4g', 'executorMemory': '8g', 'executorCores': 25, 'numExecutors': 9, 'kind': 'pyspark'}</tt><br>"
      ],
      "text/plain": [
       "<IPython.core.display.HTML object>"
      ]
     },
     "metadata": {},
     "output_type": "display_data"
    },
    {
     "data": {
      "text/html": [
       "<table>\n",
       "<tr><th>ID</th><th>YARN Application ID</th><th>Kind</th><th>State</th><th>Spark UI</th><th>Driver log</th><th>Current session?</th></tr><tr><td>8875</td><td>application_1589299642358_3407</td><td>pyspark</td><td>idle</td><td><a target=\"_blank\" href=\"http://iccluster044.iccluster.epfl.ch:8088/proxy/application_1589299642358_3407/\">Link</a></td><td><a target=\"_blank\" href=\"http://iccluster065.iccluster.epfl.ch:8042/node/containerlogs/container_e06_1589299642358_3407_01_000001/ebouille\">Link</a></td><td></td></tr><tr><td>8880</td><td>application_1589299642358_3412</td><td>pyspark</td><td>idle</td><td><a target=\"_blank\" href=\"http://iccluster044.iccluster.epfl.ch:8088/proxy/application_1589299642358_3412/\">Link</a></td><td><a target=\"_blank\" href=\"http://iccluster072.iccluster.epfl.ch:8042/node/containerlogs/container_e06_1589299642358_3412_01_000001/ebouille\">Link</a></td><td></td></tr><tr><td>8883</td><td>application_1589299642358_3415</td><td>pyspark</td><td>idle</td><td><a target=\"_blank\" href=\"http://iccluster044.iccluster.epfl.ch:8088/proxy/application_1589299642358_3415/\">Link</a></td><td><a target=\"_blank\" href=\"http://iccluster067.iccluster.epfl.ch:8042/node/containerlogs/container_e06_1589299642358_3415_01_000001/ebouille\">Link</a></td><td></td></tr><tr><td>8885</td><td>application_1589299642358_3417</td><td>pyspark</td><td>busy</td><td><a target=\"_blank\" href=\"http://iccluster044.iccluster.epfl.ch:8088/proxy/application_1589299642358_3417/\">Link</a></td><td><a target=\"_blank\" href=\"http://iccluster069.iccluster.epfl.ch:8042/node/containerlogs/container_e06_1589299642358_3417_01_000001/ebouille\">Link</a></td><td></td></tr><tr><td>8888</td><td>application_1589299642358_3420</td><td>pyspark</td><td>busy</td><td><a target=\"_blank\" href=\"http://iccluster044.iccluster.epfl.ch:8088/proxy/application_1589299642358_3420/\">Link</a></td><td><a target=\"_blank\" href=\"http://iccluster070.iccluster.epfl.ch:8042/node/containerlogs/container_e06_1589299642358_3420_01_000001/ebouille\">Link</a></td><td></td></tr><tr><td>8889</td><td>application_1589299642358_3421</td><td>pyspark</td><td>idle</td><td><a target=\"_blank\" href=\"http://iccluster044.iccluster.epfl.ch:8088/proxy/application_1589299642358_3421/\">Link</a></td><td><a target=\"_blank\" href=\"http://iccluster065.iccluster.epfl.ch:8042/node/containerlogs/container_e06_1589299642358_3421_01_000001/ebouille\">Link</a></td><td></td></tr><tr><td>8891</td><td>application_1589299642358_3423</td><td>pyspark</td><td>busy</td><td><a target=\"_blank\" href=\"http://iccluster044.iccluster.epfl.ch:8088/proxy/application_1589299642358_3423/\">Link</a></td><td><a target=\"_blank\" href=\"http://iccluster065.iccluster.epfl.ch:8042/node/containerlogs/container_e06_1589299642358_3423_01_000001/ebouille\">Link</a></td><td></td></tr><tr><td>8895</td><td>application_1589299642358_3427</td><td>pyspark</td><td>idle</td><td><a target=\"_blank\" href=\"http://iccluster044.iccluster.epfl.ch:8088/proxy/application_1589299642358_3427/\">Link</a></td><td><a target=\"_blank\" href=\"http://iccluster069.iccluster.epfl.ch:8042/node/containerlogs/container_e06_1589299642358_3427_01_000001/ebouille\">Link</a></td><td></td></tr><tr><td>8896</td><td>application_1589299642358_3428</td><td>pyspark</td><td>idle</td><td><a target=\"_blank\" href=\"http://iccluster044.iccluster.epfl.ch:8088/proxy/application_1589299642358_3428/\">Link</a></td><td><a target=\"_blank\" href=\"http://iccluster067.iccluster.epfl.ch:8042/node/containerlogs/container_e06_1589299642358_3428_01_000001/ebouille\">Link</a></td><td></td></tr><tr><td>8897</td><td>application_1589299642358_3429</td><td>pyspark</td><td>busy</td><td><a target=\"_blank\" href=\"http://iccluster044.iccluster.epfl.ch:8088/proxy/application_1589299642358_3429/\">Link</a></td><td><a target=\"_blank\" href=\"http://iccluster070.iccluster.epfl.ch:8042/node/containerlogs/container_e06_1589299642358_3429_01_000001/ebouille\">Link</a></td><td></td></tr><tr><td>8899</td><td>application_1589299642358_3431</td><td>pyspark</td><td>idle</td><td><a target=\"_blank\" href=\"http://iccluster044.iccluster.epfl.ch:8088/proxy/application_1589299642358_3431/\">Link</a></td><td><a target=\"_blank\" href=\"http://iccluster065.iccluster.epfl.ch:8042/node/containerlogs/container_e06_1589299642358_3431_01_000001/ebouille\">Link</a></td><td></td></tr><tr><td>8901</td><td>application_1589299642358_3433</td><td>pyspark</td><td>idle</td><td><a target=\"_blank\" href=\"http://iccluster044.iccluster.epfl.ch:8088/proxy/application_1589299642358_3433/\">Link</a></td><td><a target=\"_blank\" href=\"http://iccluster068.iccluster.epfl.ch:8042/node/containerlogs/container_e06_1589299642358_3433_01_000001/ebouille\">Link</a></td><td></td></tr><tr><td>8902</td><td>application_1589299642358_3434</td><td>pyspark</td><td>idle</td><td><a target=\"_blank\" href=\"http://iccluster044.iccluster.epfl.ch:8088/proxy/application_1589299642358_3434/\">Link</a></td><td><a target=\"_blank\" href=\"http://iccluster070.iccluster.epfl.ch:8042/node/containerlogs/container_e06_1589299642358_3434_01_000001/ebouille\">Link</a></td><td></td></tr><tr><td>8903</td><td>application_1589299642358_3435</td><td>pyspark</td><td>idle</td><td><a target=\"_blank\" href=\"http://iccluster044.iccluster.epfl.ch:8088/proxy/application_1589299642358_3435/\">Link</a></td><td><a target=\"_blank\" href=\"http://iccluster065.iccluster.epfl.ch:8042/node/containerlogs/container_e06_1589299642358_3435_01_000001/ebouille\">Link</a></td><td></td></tr><tr><td>8906</td><td>application_1589299642358_3438</td><td>pyspark</td><td>idle</td><td><a target=\"_blank\" href=\"http://iccluster044.iccluster.epfl.ch:8088/proxy/application_1589299642358_3438/\">Link</a></td><td><a target=\"_blank\" href=\"http://iccluster072.iccluster.epfl.ch:8042/node/containerlogs/container_e06_1589299642358_3438_01_000001/ebouille\">Link</a></td><td></td></tr><tr><td>8907</td><td>application_1589299642358_3439</td><td>pyspark</td><td>idle</td><td><a target=\"_blank\" href=\"http://iccluster044.iccluster.epfl.ch:8088/proxy/application_1589299642358_3439/\">Link</a></td><td><a target=\"_blank\" href=\"http://iccluster066.iccluster.epfl.ch:8042/node/containerlogs/container_e06_1589299642358_3439_01_000001/ebouille\">Link</a></td><td></td></tr><tr><td>8909</td><td>application_1589299642358_3441</td><td>pyspark</td><td>busy</td><td><a target=\"_blank\" href=\"http://iccluster044.iccluster.epfl.ch:8088/proxy/application_1589299642358_3441/\">Link</a></td><td><a target=\"_blank\" href=\"http://iccluster069.iccluster.epfl.ch:8042/node/containerlogs/container_e06_1589299642358_3441_01_000001/ebouille\">Link</a></td><td></td></tr><tr><td>8910</td><td>application_1589299642358_3442</td><td>pyspark</td><td>busy</td><td><a target=\"_blank\" href=\"http://iccluster044.iccluster.epfl.ch:8088/proxy/application_1589299642358_3442/\">Link</a></td><td><a target=\"_blank\" href=\"http://iccluster071.iccluster.epfl.ch:8042/node/containerlogs/container_e06_1589299642358_3442_01_000001/ebouille\">Link</a></td><td></td></tr><tr><td>8911</td><td>application_1589299642358_3443</td><td>pyspark</td><td>idle</td><td><a target=\"_blank\" href=\"http://iccluster044.iccluster.epfl.ch:8088/proxy/application_1589299642358_3443/\">Link</a></td><td><a target=\"_blank\" href=\"http://iccluster069.iccluster.epfl.ch:8042/node/containerlogs/container_e06_1589299642358_3443_01_000001/ebouille\">Link</a></td><td></td></tr><tr><td>8914</td><td>application_1589299642358_3446</td><td>pyspark</td><td>dead</td><td><a target=\"_blank\" href=\"http://iccluster044.iccluster.epfl.ch:8088/cluster/app/application_1589299642358_3446\">Link</a></td><td><a target=\"_blank\" href=\"http://iccluster054.iccluster.epfl.ch:8188/applicationhistory/logs/iccluster070.iccluster.epfl.ch:45454/container_e06_1589299642358_3446_01_000001/container_e06_1589299642358_3446_01_000001/ebouille\">Link</a></td><td></td></tr><tr><td>8916</td><td>application_1589299642358_3448</td><td>pyspark</td><td>idle</td><td><a target=\"_blank\" href=\"http://iccluster044.iccluster.epfl.ch:8088/proxy/application_1589299642358_3448/\">Link</a></td><td><a target=\"_blank\" href=\"http://iccluster070.iccluster.epfl.ch:8042/node/containerlogs/container_e06_1589299642358_3448_01_000001/ebouille\">Link</a></td><td></td></tr><tr><td>8917</td><td>application_1589299642358_3449</td><td>pyspark</td><td>busy</td><td><a target=\"_blank\" href=\"http://iccluster044.iccluster.epfl.ch:8088/proxy/application_1589299642358_3449/\">Link</a></td><td><a target=\"_blank\" href=\"http://iccluster072.iccluster.epfl.ch:8042/node/containerlogs/container_e06_1589299642358_3449_01_000001/ebouille\">Link</a></td><td></td></tr><tr><td>8919</td><td>application_1589299642358_3451</td><td>pyspark</td><td>busy</td><td><a target=\"_blank\" href=\"http://iccluster044.iccluster.epfl.ch:8088/proxy/application_1589299642358_3451/\">Link</a></td><td><a target=\"_blank\" href=\"http://iccluster069.iccluster.epfl.ch:8042/node/containerlogs/container_e06_1589299642358_3451_01_000001/ebouille\">Link</a></td><td></td></tr><tr><td>8921</td><td>application_1589299642358_3453</td><td>pyspark</td><td>busy</td><td><a target=\"_blank\" href=\"http://iccluster044.iccluster.epfl.ch:8088/proxy/application_1589299642358_3453/\">Link</a></td><td><a target=\"_blank\" href=\"http://iccluster070.iccluster.epfl.ch:8042/node/containerlogs/container_e06_1589299642358_3453_01_000001/ebouille\">Link</a></td><td></td></tr><tr><td>8922</td><td>application_1589299642358_3454</td><td>pyspark</td><td>busy</td><td><a target=\"_blank\" href=\"http://iccluster044.iccluster.epfl.ch:8088/proxy/application_1589299642358_3454/\">Link</a></td><td><a target=\"_blank\" href=\"http://iccluster071.iccluster.epfl.ch:8042/node/containerlogs/container_e06_1589299642358_3454_01_000001/ebouille\">Link</a></td><td></td></tr><tr><td>8923</td><td>application_1589299642358_3455</td><td>pyspark</td><td>idle</td><td><a target=\"_blank\" href=\"http://iccluster044.iccluster.epfl.ch:8088/proxy/application_1589299642358_3455/\">Link</a></td><td><a target=\"_blank\" href=\"http://iccluster070.iccluster.epfl.ch:8042/node/containerlogs/container_e06_1589299642358_3455_01_000001/ebouille\">Link</a></td><td></td></tr><tr><td>8924</td><td>application_1589299642358_3456</td><td>pyspark</td><td>busy</td><td><a target=\"_blank\" href=\"http://iccluster044.iccluster.epfl.ch:8088/proxy/application_1589299642358_3456/\">Link</a></td><td><a target=\"_blank\" href=\"http://iccluster068.iccluster.epfl.ch:8042/node/containerlogs/container_e06_1589299642358_3456_01_000001/ebouille\">Link</a></td><td></td></tr></table>"
      ],
      "text/plain": [
       "<IPython.core.display.HTML object>"
      ]
     },
     "metadata": {},
     "output_type": "display_data"
    }
   ],
   "source": [
    "%%configure -f\n",
    "{\"conf\":{\"spark.app.name\": \"orientexpress\"},\n",
    " \"driverMemory\": \"4g\",\n",
    " \"executorMemory\": \"8g\",\n",
    " \"executorCores\": 25, \n",
    " \"numExecutors\": 9, \n",
    " \"kind\": \"pyspark\"\n",
    "}"
   ]
  },
  {
   "cell_type": "code",
   "execution_count": 2,
   "metadata": {},
   "outputs": [
    {
     "name": "stdout",
     "output_type": "stream",
     "text": [
      "Starting Spark application\n"
     ]
    },
    {
     "data": {
      "text/html": [
       "<table>\n",
       "<tr><th>ID</th><th>YARN Application ID</th><th>Kind</th><th>State</th><th>Spark UI</th><th>Driver log</th><th>Current session?</th></tr><tr><td>8925</td><td>application_1589299642358_3457</td><td>pyspark</td><td>idle</td><td><a target=\"_blank\" href=\"http://iccluster044.iccluster.epfl.ch:8088/proxy/application_1589299642358_3457/\">Link</a></td><td><a target=\"_blank\" href=\"http://iccluster067.iccluster.epfl.ch:8042/node/containerlogs/container_e06_1589299642358_3457_01_000001/ebouille\">Link</a></td><td>✔</td></tr></table>"
      ],
      "text/plain": [
       "<IPython.core.display.HTML object>"
      ]
     },
     "metadata": {},
     "output_type": "display_data"
    },
    {
     "data": {
      "application/vnd.jupyter.widget-view+json": {
       "model_id": "",
       "version_major": 2,
       "version_minor": 0
      },
      "text/plain": [
       "FloatProgress(value=0.0, bar_style='info', description='Progress:', layout=Layout(height='25px', width='50%'),…"
      ]
     },
     "metadata": {},
     "output_type": "display_data"
    },
    {
     "name": "stdout",
     "output_type": "stream",
     "text": [
      "SparkSession available as 'spark'.\n"
     ]
    },
    {
     "data": {
      "application/vnd.jupyter.widget-view+json": {
       "model_id": "",
       "version_major": 2,
       "version_minor": 0
      },
      "text/plain": [
       "FloatProgress(value=0.0, bar_style='info', description='Progress:', layout=Layout(height='25px', width='50%'),…"
      ]
     },
     "metadata": {},
     "output_type": "display_data"
    }
   ],
   "source": [
    "import pyspark.sql.functions as F"
   ]
  },
  {
   "cell_type": "code",
   "execution_count": 3,
   "metadata": {},
   "outputs": [],
   "source": [
    "%%local \n",
    "import matplotlib.pyplot as plt"
   ]
  },
  {
   "cell_type": "markdown",
   "metadata": {},
   "source": [
    "## 1. Load & filter actual data"
   ]
  },
  {
   "cell_type": "code",
   "execution_count": 4,
   "metadata": {},
   "outputs": [
    {
     "data": {
      "application/vnd.jupyter.widget-view+json": {
       "model_id": "",
       "version_major": 2,
       "version_minor": 0
      },
      "text/plain": [
       "FloatProgress(value=0.0, bar_style='info', description='Progress:', layout=Layout(height='25px', width='50%'),…"
      ]
     },
     "metadata": {},
     "output_type": "display_data"
    }
   ],
   "source": [
    "def compute_delay():\n",
    "        \n",
    "    df = spark.read.csv('/data/sbb/istdaten/*/*/*.csv.bz2', sep=';', header=True)\n",
    "    df = df.selectExpr(\"BETRIEBSTAG as date\", \n",
    "                             \"FAHRT_BEZEICHNER as trip_id\",\n",
    "                             \"BETREIBER_ID as operator_id\",\n",
    "                             \"BETREIBER_ABK as operator_ab\",\n",
    "                             \"BETREIBER_NAME as operator_name\", \n",
    "                             \"PRODUKT_ID as transport_type\",\n",
    "                             \"LINIEN_ID as train_id\", \n",
    "                             \"LINIEN_TEXT as train_type\", \n",
    "                             \"UMLAUF_ID as circulation_id\",\n",
    "                             \"VERKEHRSMITTEL_TEXT as train_type2\", \n",
    "                             \"ZUSATZFAHRT_TF as additional_trip\",\n",
    "                             \"FAELLT_AUS_TF as trip_failed\", \n",
    "                             \"BPUIC as bpuic\", \n",
    "                             \"HALTESTELLEN_NAME as stop_name\",\n",
    "                             \"ANKUNFTSZEIT as arrival_schedule\", \n",
    "                             \"ABFAHRTSZEIT as departure_schedule\",\n",
    "                             \"AN_PROGNOSE as arrival_actual\",\n",
    "                             \"AB_PROGNOSE as departure_actual\",\n",
    "                             \"AN_PROGNOSE_STATUS as arrival_status\",\n",
    "                             \"AB_PROGNOSE_STATUS as departure_status\",\n",
    "                             \"DURCHFAHRT_TF as does_not_stop\")\n",
    "    \n",
    "    # Keep only stops which are with a 15 km radius around Zürich HB\n",
    "    stop_path = \"/user/tvaucher/stops\"\n",
    "    \n",
    "    stop_names = spark.read.parquet(stop_path).select('stop_name').distinct()\n",
    "\n",
    "    df = df.join(stop_names, ['stop_name']).cache()\n",
    "    \n",
    "    # convert to unix timestamp\n",
    "    df = df.withColumn('arrival_schedule', F.unix_timestamp('arrival_schedule', 'dd.MM.yyy HH:mm'))\n",
    "    df = df.withColumn('arrival_actual', F.unix_timestamp('arrival_actual', 'dd.MM.yyy HH:mm:ss'))\n",
    "    \n",
    "    # compute arrival delays\n",
    "    df = df.withColumn('arrival_delay', F.col('arrival_actual') - F.col('arrival_schedule'))\n",
    "    \n",
    "    # reformat the arrival columns\n",
    "    df = df.withColumn('arrival_schedule', F.from_unixtime('arrival_schedule'))\n",
    "    df = df.withColumn('arrival_actual', F.from_unixtime('arrival_actual'))\n",
    "    \n",
    "    # remove rows where arrival is null -6% of DF (13'478'468 rows)\n",
    "    df = df.where(~(F.col(\"arrival_actual\").isNull() | F.col(\"arrival_schedule\").isNull()))\n",
    "    \n",
    "    # keep only day of the week (remove Saturdays:7 and Sundays:1)\n",
    "    df = df.where(~(F.dayofweek(F.from_unixtime(F.unix_timestamp('date', 'dd.MM.yyy'))).isin(['7', '1'])))\n",
    "    \n",
    "    # keep only transports arriving between 7 and 19\n",
    "    df = df.where((F.hour('arrival_schedule') >= '07') & (F.hour('arrival_schedule') <= '18'))\n",
    "    \n",
    "    # remove rows for which we don't have transport_type -0.001 % of DF (1'042 rows)\n",
    "    df = df.where(~ (F.col('transport_type').isNull()))\n",
    "    \n",
    "    # remove rows when transport does not stop -0.04% of DF (33'992 rows)\n",
    "    df = df.where(F.col('does_not_stop')=='false')\n",
    "    \n",
    "    # remove data after dec 16 2019 (schedule change at CFF)\n",
    "    df = df.where(F.from_unixtime(F.unix_timestamp('date', 'dd.MM.yyy')) <= \"2019-12-15\")\n",
    "    \n",
    "    # put all negative delay to zero - we don't care about train arriving ahead of schedule\n",
    "    df = df.withColumn('arrival_delay', F.when(F.col('arrival_delay') >= 0, F.col('arrival_delay')).otherwise(0))\n",
    "    \n",
    "    # change BUS to Bus\n",
    "    df = df.withColumn('transport_type', F.when(F.col('transport_type') == 'BUS', 'Bus')\\\n",
    "                       .otherwise(F.col('transport_type')))\n",
    "    \n",
    "    # manually remove entries which have been found as not regular \n",
    "    df = df.where(~((F.col('stop_name')=='Zürich, Friedrichstrasse') & (F.col('transport_type')=='Tram'))\n",
    "                 & ~((F.col('stop_name')=='Zürich, Frohburg') & (F.col('transport_type')=='Tram'))\n",
    "                 & ~((F.col('stop_name')=='Zürich, Letzigrund') & (F.col('transport_type')=='Bus'))\n",
    "                 & ~((F.col('stop_name')=='Zürich, Im Klösterli') & (F.col('transport_type')=='Bus'))\n",
    "                 & ~((F.col('stop_name')=='Zürich, Brunaustrasse') & (F.col('transport_type')=='Bus'))\n",
    "                 & ~((F.col('stop_name')=='Zürich, Museum Rietberg') & (F.col('transport_type')=='Bus'))\n",
    "                 & ~((F.col('stop_name')=='Zürich, Billoweg') & (F.col('transport_type')=='Bus'))\n",
    "                 & ~((F.col('stop_name')=='Zürich, Strickhof') & (F.col('transport_type')=='Bus'))\n",
    "                )\n",
    "\n",
    "    # add indication on time of the day\n",
    "    df = df.withColumn('timeframe', \n",
    "              F.when(F.date_format('arrival_schedule', 'HH:mm:ss') < '09:30:00', 'morning')\n",
    "              .when(F.date_format('arrival_schedule', 'HH:mm:ss') > '16:00:00', 'evening')\n",
    "                       .otherwise('day'))\n",
    "    \n",
    "    return df"
   ]
  },
  {
   "cell_type": "code",
   "execution_count": 5,
   "metadata": {},
   "outputs": [
    {
     "data": {
      "application/vnd.jupyter.widget-view+json": {
       "model_id": "",
       "version_major": 2,
       "version_minor": 0
      },
      "text/plain": [
       "FloatProgress(value=0.0, bar_style='info', description='Progress:', layout=Layout(height='25px', width='50%'),…"
      ]
     },
     "metadata": {},
     "output_type": "display_data"
    }
   ],
   "source": [
    "df = compute_delay().cache()"
   ]
  },
  {
   "cell_type": "markdown",
   "metadata": {},
   "source": [
    "## 2. Statistical analysis\n",
    "\n",
    "In this section, we consider the different possible groupings for delay parameters. In particular, we study the variation in delay, and the amount of data available based on 3 factors: transport type, time of day and stop ID.\n",
    "\n",
    "We use the statistical differences to justify how we calculate different parameters when estimating delay distributions.\n",
    "\n",
    "### 2.1 Transport type\n",
    "\n",
    "We consider the major transport types -- trains, trams and buses."
   ]
  },
  {
   "cell_type": "code",
   "execution_count": 6,
   "metadata": {},
   "outputs": [
    {
     "data": {
      "application/vnd.jupyter.widget-view+json": {
       "model_id": "",
       "version_major": 2,
       "version_minor": 0
      },
      "text/plain": [
       "FloatProgress(value=0.0, bar_style='info', description='Progress:', layout=Layout(height='25px', width='50%'),…"
      ]
     },
     "metadata": {},
     "output_type": "display_data"
    }
   ],
   "source": [
    "group_transport = df.groupBy('transport_type').agg(F.mean('arrival_delay').alias('avg_delay'), F.count(F.lit(1)).alias('n_rows'))"
   ]
  },
  {
   "cell_type": "code",
   "execution_count": 7,
   "metadata": {},
   "outputs": [
    {
     "data": {
      "application/vnd.jupyter.widget-view+json": {
       "model_id": "",
       "version_major": 2,
       "version_minor": 0
      },
      "text/plain": [
       "FloatProgress(value=0.0, bar_style='info', description='Progress:', layout=Layout(height='25px', width='50%'),…"
      ]
     },
     "metadata": {},
     "output_type": "display_data"
    },
    {
     "name": "stdout",
     "output_type": "stream",
     "text": [
      "+--------------+-----------------+--------+\n",
      "|transport_type|        avg_delay|  n_rows|\n",
      "+--------------+-----------------+--------+\n",
      "|          Tram|68.21081143278012|29348802|\n",
      "|           Zug|73.83894200135794| 5359591|\n",
      "|           Bus|98.10742573387249|63091717|\n",
      "+--------------+-----------------+--------+"
     ]
    }
   ],
   "source": [
    "group_transport.show()"
   ]
  },
  {
   "cell_type": "code",
   "execution_count": 8,
   "metadata": {},
   "outputs": [
    {
     "data": {
      "application/vnd.jupyter.widget-view+json": {
       "model_id": "",
       "version_major": 2,
       "version_minor": 0
      },
      "text/plain": [
       "FloatProgress(value=0.0, bar_style='info', description='Progress:', layout=Layout(height='25px', width='50%'),…"
      ]
     },
     "metadata": {},
     "output_type": "display_data"
    },
    {
     "data": {
      "application/vnd.jupyter.widget-view+json": {
       "model_id": "",
       "version_major": 2,
       "version_minor": 0
      },
      "text/plain": [
       "FloatProgress(value=0.0, bar_style='info', description='Progress:', layout=Layout(height='25px', width='50%'),…"
      ]
     },
     "metadata": {},
     "output_type": "display_data"
    }
   ],
   "source": [
    "%%spark -o group_transport"
   ]
  },
  {
   "cell_type": "code",
   "execution_count": 9,
   "metadata": {},
   "outputs": [
    {
     "data": {
      "image/png": "[encoded data removed]",
      "text/plain": [
       "<Figure size 1800x720 with 1 Axes>"
      ]
     },
     "metadata": {
      "needs_background": "light"
     },
     "output_type": "display_data"
    }
   ],
   "source": [
    "%%local \n",
    "# plot to visualise\n",
    "fig, ax = plt.subplots(figsize=(25, 10))\n",
    "group_transport['avg_delay'].plot.bar(ax=ax)\n",
    "ax.set_title('Average arrival delay by transport type')\n",
    "ax.set_ylabel('Average delay [in seconds]')\n",
    "plt.xticks(range(len(group_transport)), group_transport.transport_type)\n",
    "plt.rc('axes', labelsize=12) \n",
    "plt.rc('font', size=18) \n",
    "plt.grid(axis='y')\n",
    "\n",
    "plt.show()"
   ]
  },
  {
   "cell_type": "markdown",
   "metadata": {},
   "source": [
    "In the table and graph displayed above, we can see that we have a significant number of data points for each of the three transport types. In addition to that, we can clearly see that transport types have a different delay average. In particular,  buses have a larger delay on average (~1'40'', against 1'13'' and 1'08'' for trains and trams respectively). It is clear that it would be beneficial to have separate delay parameters based on transport type at the very least.\n",
    "\n",
    "We know from experience that some train types (RE, IC, EC, etc.) tend to be more reliable than others in terms of timing, so we decided to further look into the more popular train types to see if there is a significant difference in average delays for them."
   ]
  },
  {
   "cell_type": "code",
   "execution_count": 10,
   "metadata": {},
   "outputs": [
    {
     "data": {
      "application/vnd.jupyter.widget-view+json": {
       "model_id": "",
       "version_major": 2,
       "version_minor": 0
      },
      "text/plain": [
       "FloatProgress(value=0.0, bar_style='info', description='Progress:', layout=Layout(height='25px', width='50%'),…"
      ]
     },
     "metadata": {},
     "output_type": "display_data"
    }
   ],
   "source": [
    "group_trains = df.where(F.col('transport_type')=='Zug').groupBy('train_type2').agg(F.mean('arrival_delay').alias('avg_delay'), F.count(F.lit(1)).alias('n_rows'))"
   ]
  },
  {
   "cell_type": "code",
   "execution_count": 11,
   "metadata": {},
   "outputs": [
    {
     "data": {
      "application/vnd.jupyter.widget-view+json": {
       "model_id": "",
       "version_major": 2,
       "version_minor": 0
      },
      "text/plain": [
       "FloatProgress(value=0.0, bar_style='info', description='Progress:', layout=Layout(height='25px', width='50%'),…"
      ]
     },
     "metadata": {},
     "output_type": "display_data"
    },
    {
     "name": "stdout",
     "output_type": "stream",
     "text": [
      "+-----------+------------------+-------+\n",
      "|train_type2|         avg_delay| n_rows|\n",
      "+-----------+------------------+-------+\n",
      "|         IC|  88.6034583903679| 107391|\n",
      "|        ZUG|             208.4|      5|\n",
      "|         RE| 64.72833235526235|  49417|\n",
      "|         NJ| 698.8461007591443|   1449|\n",
      "|        TGV|421.07397260273973|   1460|\n",
      "|         EN|382.55555555555554|     18|\n",
      "|         EC| 257.5833075255497|   6458|\n",
      "|         IR| 79.50516298247894| 169282|\n",
      "|          D|             223.5|      4|\n",
      "|        ICE|261.30493678506923|   3322|\n",
      "|         AG|             460.0|      4|\n",
      "|          S|  72.6010765897149|5016953|\n",
      "|        EXT| 75.00530222693531|   1886|\n",
      "|        RJX| 506.4327176781003|    758|\n",
      "|          P|             210.5|      2|\n",
      "|         RJ| 543.8535139712109|   1181|\n",
      "|         MP|              19.0|      1|\n",
      "+-----------+------------------+-------+"
     ]
    }
   ],
   "source": [
    "group_trains.show()"
   ]
  },
  {
   "cell_type": "code",
   "execution_count": 12,
   "metadata": {},
   "outputs": [
    {
     "data": {
      "application/vnd.jupyter.widget-view+json": {
       "model_id": "",
       "version_major": 2,
       "version_minor": 0
      },
      "text/plain": [
       "FloatProgress(value=0.0, bar_style='info', description='Progress:', layout=Layout(height='25px', width='50%'),…"
      ]
     },
     "metadata": {},
     "output_type": "display_data"
    },
    {
     "data": {
      "application/vnd.jupyter.widget-view+json": {
       "model_id": "",
       "version_major": 2,
       "version_minor": 0
      },
      "text/plain": [
       "FloatProgress(value=0.0, bar_style='info', description='Progress:', layout=Layout(height='25px', width='50%'),…"
      ]
     },
     "metadata": {},
     "output_type": "display_data"
    }
   ],
   "source": [
    "%%spark -o group_trains"
   ]
  },
  {
   "cell_type": "code",
   "execution_count": 13,
   "metadata": {},
   "outputs": [],
   "source": [
    "%%local \n",
    "# we consider the more popular train types\n",
    "sub_group_trains = group_trains.loc[group_trains.train_type2.isin(['IC', 'RE', 'TGV', 'EC', 'IR', 'ICE', 'S'])]"
   ]
  },
  {
   "cell_type": "code",
   "execution_count": 14,
   "metadata": {},
   "outputs": [
    {
     "data": {
      "image/png": "[encoded data removed]",
      "text/plain": [
       "<Figure size 1800x720 with 1 Axes>"
      ]
     },
     "metadata": {
      "needs_background": "light"
     },
     "output_type": "display_data"
    }
   ],
   "source": [
    "%%local \n",
    "# plot to visualise\n",
    "fig, ax = plt.subplots(figsize=(25, 10))\n",
    "sub_group_trains['avg_delay'].plot.bar(ax=ax)\n",
    "ax.set_title('Average arrival delay by train type')\n",
    "ax.set_ylabel('Average delay [in seconds]')\n",
    "plt.xticks(range(len(sub_group_trains)), sub_group_trains.train_type2)\n",
    "plt.rc('axes', labelsize=12) \n",
    "plt.rc('font', size=18) \n",
    "plt.grid(axis='y')\n",
    "\n",
    "plt.show()"
   ]
  },
  {
   "cell_type": "markdown",
   "metadata": {},
   "source": [
    "We can see a very clear difference in average arrival delay based on train type. It seems that more long distance trains, such as EC, TGV and ICE all have much greater delays than the other train types do. We will thus use specific parameters for each of these train types, instead of the average train delay.\n",
    "\n",
    "Some types are not shown here, such as ZUG or EN, because we don't have enough entries on these. Also we do not consider some lines which we found not very relevant, such as NJ which are supposed to be night trains.\n",
    "\n",
    "### 2.2 Time of day\n",
    "\n",
    "We wanted to see how the delay varies with time of day for various transports. We display these variations below:"
   ]
  },
  {
   "cell_type": "code",
   "execution_count": 15,
   "metadata": {},
   "outputs": [
    {
     "data": {
      "application/vnd.jupyter.widget-view+json": {
       "model_id": "",
       "version_major": 2,
       "version_minor": 0
      },
      "text/plain": [
       "FloatProgress(value=0.0, bar_style='info', description='Progress:', layout=Layout(height='25px', width='50%'),…"
      ]
     },
     "metadata": {},
     "output_type": "display_data"
    }
   ],
   "source": [
    "hour_delay = df.withColumn('hour', F.hour('arrival_schedule')).groupBy('hour').agg(F.mean('arrival_delay').alias('avg_delay'), F.count(F.lit(1)).alias('n_rows')).orderBy('hour')"
   ]
  },
  {
   "cell_type": "code",
   "execution_count": 16,
   "metadata": {},
   "outputs": [
    {
     "data": {
      "application/vnd.jupyter.widget-view+json": {
       "model_id": "",
       "version_major": 2,
       "version_minor": 0
      },
      "text/plain": [
       "FloatProgress(value=0.0, bar_style='info', description='Progress:', layout=Layout(height='25px', width='50%'),…"
      ]
     },
     "metadata": {},
     "output_type": "display_data"
    },
    {
     "data": {
      "application/vnd.jupyter.widget-view+json": {
       "model_id": "",
       "version_major": 2,
       "version_minor": 0
      },
      "text/plain": [
       "FloatProgress(value=0.0, bar_style='info', description='Progress:', layout=Layout(height='25px', width='50%'),…"
      ]
     },
     "metadata": {},
     "output_type": "display_data"
    }
   ],
   "source": [
    "%%spark -o hour_delay"
   ]
  },
  {
   "cell_type": "code",
   "execution_count": 17,
   "metadata": {},
   "outputs": [
    {
     "data": {
      "image/png": "[encoded data removed]",
      "text/plain": [
       "<Figure size 1800x720 with 1 Axes>"
      ]
     },
     "metadata": {
      "needs_background": "light"
     },
     "output_type": "display_data"
    }
   ],
   "source": [
    "%%local \n",
    "# plot to visualise\n",
    "fig, ax = plt.subplots(figsize=(25, 10))\n",
    "hour_delay['avg_delay'].plot.bar(ax=ax)\n",
    "ax.set_title('Average arrival delay through the day')\n",
    "ax.set_ylabel('Average delay [in seconds]')\n",
    "plt.xticks(range(len(hour_delay)), hour_delay.hour)\n",
    "plt.rc('axes', labelsize=12) \n",
    "plt.rc('font', size=18) \n",
    "plt.grid(axis='y')\n",
    "\n",
    "plt.show()"
   ]
  },
  {
   "cell_type": "markdown",
   "metadata": {},
   "source": [
    "We can clearly see the two peak delay sections that correspond to peak commute times, as well as a reduction in delays in the middle of the day, most likely due to a reduction in traffic congestion. Since we are able to easily identify three distinct categories, we split our time-based factors into three categories:\n",
    "\n",
    "- morning: 7:00 - 9:30\n",
    "- day: 9:30 - 16:00\n",
    "- evening: 16:00 - 19:00\n",
    "\n",
    "We can use these categories to estimate parameters, in addition to those previously identified."
   ]
  },
  {
   "cell_type": "code",
   "execution_count": 18,
   "metadata": {},
   "outputs": [
    {
     "data": {
      "application/vnd.jupyter.widget-view+json": {
       "model_id": "",
       "version_major": 2,
       "version_minor": 0
      },
      "text/plain": [
       "FloatProgress(value=0.0, bar_style='info', description='Progress:', layout=Layout(height='25px', width='50%'),…"
      ]
     },
     "metadata": {},
     "output_type": "display_data"
    }
   ],
   "source": [
    "group_timeframe = df.groupBy('timeframe').agg(F.mean('arrival_delay').alias('avg_delay'), F.count(F.lit(1)).alias('n_rows'))"
   ]
  },
  {
   "cell_type": "code",
   "execution_count": 19,
   "metadata": {},
   "outputs": [
    {
     "data": {
      "application/vnd.jupyter.widget-view+json": {
       "model_id": "",
       "version_major": 2,
       "version_minor": 0
      },
      "text/plain": [
       "FloatProgress(value=0.0, bar_style='info', description='Progress:', layout=Layout(height='25px', width='50%'),…"
      ]
     },
     "metadata": {},
     "output_type": "display_data"
    },
    {
     "data": {
      "application/vnd.jupyter.widget-view+json": {
       "model_id": "",
       "version_major": 2,
       "version_minor": 0
      },
      "text/plain": [
       "FloatProgress(value=0.0, bar_style='info', description='Progress:', layout=Layout(height='25px', width='50%'),…"
      ]
     },
     "metadata": {},
     "output_type": "display_data"
    }
   ],
   "source": [
    "%%spark -o group_timeframe"
   ]
  },
  {
   "cell_type": "code",
   "execution_count": 20,
   "metadata": {},
   "outputs": [
    {
     "data": {
      "image/png": "[encoded data removed]",
      "text/plain": [
       "<Figure size 1800x720 with 1 Axes>"
      ]
     },
     "metadata": {
      "needs_background": "light"
     },
     "output_type": "display_data"
    }
   ],
   "source": [
    "%%local \n",
    "# plot to visualise\n",
    "fig, ax = plt.subplots(figsize=(25, 10))\n",
    "group_timeframe['avg_delay'].plot.bar(ax=ax)\n",
    "ax.set_title('Average arrival delay through the day')\n",
    "ax.set_ylabel('Average delay [in seconds]')\n",
    "plt.xticks(range(len(group_timeframe)), group_timeframe.timeframe)\n",
    "plt.rc('axes', labelsize=12) \n",
    "plt.rc('font', size=18) \n",
    "plt.grid(axis='y')\n",
    "\n",
    "plt.show()"
   ]
  },
  {
   "cell_type": "markdown",
   "metadata": {},
   "source": [
    "We can see that based on the identified categories, the peak average delay takes place during the evening commute time, followed by morning commute time and then finally the middle of the day. These delays are each separated by approximately 10 seconds, making the time of day an important factor to consider when estimating the delay for a trip.\n",
    "\n",
    "### 2.3 Stops\n",
    "\n",
    "In addition to considering type of transport and time of day, we consider each stop separately. All stops have their own particularities, and for those stops that have a sufficient number of data points, we are more likely to be precise when modeling based on the stop, rather than just transport type. We consider the variation amongst stops:"
   ]
  },
  {
   "cell_type": "code",
   "execution_count": 25,
   "metadata": {},
   "outputs": [
    {
     "data": {
      "application/vnd.jupyter.widget-view+json": {
       "model_id": "",
       "version_major": 2,
       "version_minor": 0
      },
      "text/plain": [
       "FloatProgress(value=0.0, bar_style='info', description='Progress:', layout=Layout(height='25px', width='50%'),…"
      ]
     },
     "metadata": {},
     "output_type": "display_data"
    }
   ],
   "source": [
    "group_stop = df.groupBy('stop_name').agg(F.mean('arrival_delay').alias('avg_delay'), F.count(F.lit(1)).alias('n_rows'))"
   ]
  },
  {
   "cell_type": "code",
   "execution_count": 26,
   "metadata": {},
   "outputs": [
    {
     "data": {
      "application/vnd.jupyter.widget-view+json": {
       "model_id": "",
       "version_major": 2,
       "version_minor": 0
      },
      "text/plain": [
       "FloatProgress(value=0.0, bar_style='info', description='Progress:', layout=Layout(height='25px', width='50%'),…"
      ]
     },
     "metadata": {},
     "output_type": "display_data"
    },
    {
     "name": "stdout",
     "output_type": "stream",
     "text": [
      "+--------------------+------------------+------+\n",
      "|           stop_name|         avg_delay|n_rows|\n",
      "+--------------------+------------------+------+\n",
      "|Zürich, Stockerst...|   67.827428466926|404638|\n",
      "|Zürich, Tunnelstr...| 68.75269300108425|311734|\n",
      "|Zürich, Schmiede ...| 80.22926490984743|490280|\n",
      "| Zürich, Oerlikerhus|  74.2413742017069|188997|\n",
      "|Zürich Flughafen,...| 91.45778780581581|395336|\n",
      "|  Kloten, Kirchgasse| 96.73094016659894| 78752|\n",
      "|Wangen, Flugsiche...| 95.64189235990857| 43311|\n",
      "|Erlenbach ZH, Im ...| 183.7195821508363| 16561|\n",
      "|    Zürich, Klosbach| 96.39935524785963| 94610|\n",
      "| Zürich, Schauenberg|62.552539777078195| 23506|\n",
      "|     Zürich, Althoos| 84.21385605518866| 47546|\n",
      "|Rüschlikon, Weids...| 91.38660993081491| 32666|\n",
      "|  Urdorf, Oberurdorf|105.39903699174565| 26168|\n",
      "|      Uitikon, Halde|100.94152512384997| 22608|\n",
      "|  Zürich, EPI-Klinik| 75.25731644526826| 48555|\n",
      "| Winkel am Zürichsee| 89.97462806085893| 47454|\n",
      "|Zürich, Saalsport...| 82.93934621254056|326987|\n",
      "|  Zürich, Fischerweg| 69.27518603474084|185718|\n",
      "|  Grafstal, Oberdorf| 96.42198845652578| 21484|\n",
      "|       Bisikon, Dorf|103.96279903045632| 28467|\n",
      "+--------------------+------------------+------+\n",
      "only showing top 20 rows"
     ]
    }
   ],
   "source": [
    "group_stop.show()"
   ]
  },
  {
   "cell_type": "code",
   "execution_count": 27,
   "metadata": {},
   "outputs": [
    {
     "data": {
      "application/vnd.jupyter.widget-view+json": {
       "model_id": "",
       "version_major": 2,
       "version_minor": 0
      },
      "text/plain": [
       "FloatProgress(value=0.0, bar_style='info', description='Progress:', layout=Layout(height='25px', width='50%'),…"
      ]
     },
     "metadata": {},
     "output_type": "display_data"
    },
    {
     "data": {
      "application/vnd.jupyter.widget-view+json": {
       "model_id": "",
       "version_major": 2,
       "version_minor": 0
      },
      "text/plain": [
       "FloatProgress(value=0.0, bar_style='info', description='Progress:', layout=Layout(height='25px', width='50%'),…"
      ]
     },
     "metadata": {},
     "output_type": "display_data"
    }
   ],
   "source": [
    "%%spark -o group_stop"
   ]
  },
  {
   "cell_type": "code",
   "execution_count": 29,
   "metadata": {},
   "outputs": [
    {
     "data": {
      "image/png": "[encoded data removed]",
      "text/plain": [
       "<Figure size 1800x720 with 1 Axes>"
      ]
     },
     "metadata": {
      "needs_background": "light"
     },
     "output_type": "display_data"
    }
   ],
   "source": [
    "%%local \n",
    "# plot to visualise\n",
    "fig, ax = plt.subplots(figsize=(25, 10))\n",
    "group_stop['avg_delay'].sample(n=700, random_state=0).plot.bar(ax=ax)\n",
    "ax.set_title('Average arrival delay per stop')\n",
    "ax.set_xlabel('700 random stops')\n",
    "ax.set_ylabel('Average delay [in seconds]')\n",
    "plt.tick_params(axis='x', which='both', bottom=False, top=False, labelbottom=False)\n",
    "plt.rc('axes', labelsize=12) \n",
    "plt.rc('font', size=18) \n",
    "plt.grid(axis='y')\n",
    "\n",
    "plt.show()"
   ]
  },
  {
   "cell_type": "markdown",
   "metadata": {},
   "source": [
    "As we can see, having taken a sample of 700 random stops (for displaying purposes), there is a significant variety in average delay amongst stops -- potentially based on whether they're located in congested areas or on hills that are difficult to ride up, or if they are at the end of a long trip for example. It is certainly interesting to consider taking into account a stop-specific delay parameter.\n",
    "\n",
    "Thus, based on the analysis performed above, we deduce that we can maximize the performance of our probability distribution estimator by having a parameter that takes into account (in order of priority):\n",
    "1. stop name (the largest disparity between stops)\n",
    "2. time of day (morning, day, evening)\n",
    "3. transport type (with specific parameters for the most popular trains)"
   ]
  },
  {
   "cell_type": "markdown",
   "metadata": {},
   "source": [
    "## 3. Save identified categories\n",
    "\n",
    "We create a delay table, based on the groupings that we identified:\n",
    "- `tram_delays`: delay for each tram stop, each with a distinct parameter based on time of day (morning, day, evening)\n",
    "- `bus_delays_without_time`: delay for each bus stop, not taking into consideration time\n",
    "- `bus_delays`: delay for each bus stop, each with a distinct parameter based on time of day (morning, day, evening)\n",
    "- `train_delays`: delay for each train stop, based on train type (IC, ER, IR, etc.) and with a distinct parameter based on time of day (morning, day, evening)\n",
    "- `train_delays_without_type`: delay for each train stop, not taking into consideration train type (IC, ER, IR, etc.), but each with a distinct parameter based on time of day (morning, day, evening)\n",
    "- `overal_delay`: overall average delay, used as the default parameter for the delay"
   ]
  },
  {
   "cell_type": "code",
   "execution_count": 32,
   "metadata": {},
   "outputs": [
    {
     "data": {
      "application/vnd.jupyter.widget-view+json": {
       "model_id": "",
       "version_major": 2,
       "version_minor": 0
      },
      "text/plain": [
       "FloatProgress(value=0.0, bar_style='info', description='Progress:', layout=Layout(height='25px', width='50%'),…"
      ]
     },
     "metadata": {},
     "output_type": "display_data"
    }
   ],
   "source": [
    "tram_delays = df.where(F.col('transport_type')=='Tram').groupBy(['stop_name', 'timeframe']).agg(F.mean('arrival_delay').alias('avg_delay'), F.count(F.lit(1)).alias('n_rows'))\n",
    "bus_delays_without_time = df.where(F.col('transport_type')=='Bus').groupBy(['stop_name']).agg(F.mean('arrival_delay').alias('avg_delay'), F.count(F.lit(1)).alias('n_rows'))\n",
    "bus_delays = df.where(F.col('transport_type')=='Bus').groupBy(['stop_name', 'timeframe']).agg(F.mean('arrival_delay').alias('avg_delay'), F.count(F.lit(1)).alias('n_rows'))\n",
    "train_delays = df.where(F.col('transport_type')=='Zug').groupBy(['stop_name', 'timeframe', 'train_type2']).agg(F.mean('arrival_delay').alias('avg_delay'), F.count(F.lit(1)).alias('n_rows'))\n",
    "train_delays_without_type = df.where(F.col('transport_type')=='Zug').groupBy(['stop_name', 'timeframe']).agg(F.mean('arrival_delay').alias('avg_delay'), F.count(F.lit(1)).alias('n_rows'))\n",
    "overal_delay = df.agg(F.mean('arrival_delay').alias('avg_delay'), F.count(F.lit(1)).alias('n_rows'))"
   ]
  },
  {
   "cell_type": "code",
   "execution_count": 33,
   "metadata": {},
   "outputs": [
    {
     "data": {
      "application/vnd.jupyter.widget-view+json": {
       "model_id": "",
       "version_major": 2,
       "version_minor": 0
      },
      "text/plain": [
       "FloatProgress(value=0.0, bar_style='info', description='Progress:', layout=Layout(height='25px', width='50%'),…"
      ]
     },
     "metadata": {},
     "output_type": "display_data"
    }
   ],
   "source": [
    "df.write.parquet('/user/jjgweber/delays_df', mode='overwrite', compression='gzip')\n",
    "tram_delays.write.parquet('/user/jjgweber/tram_delays', mode='overwrite', compression='gzip')\n",
    "bus_delays.write.parquet('/user/jjgweber/bus_delays', mode='overwrite', compression='gzip')\n",
    "bus_delays_without_time.write.parquet('/user/jjgweber/bus_delays_without_time', mode='overwrite', compression='gzip')\n",
    "train_delays.write.parquet('/user/jjgweber/train_delays', mode='overwrite', compression='gzip')\n",
    "train_delays_without_type.write.parquet('/user/jjgweber/train_delays_without_type', mode='overwrite', compression='gzip')"
   ]
  }
 ],
 "metadata": {
  "kernelspec": {
   "display_name": "PySpark",
   "language": "",
   "name": "pysparkkernel"
  },
  "language_info": {
   "codemirror_mode": {
    "name": "python",
    "version": 3
   },
   "mimetype": "text/x-python",
   "name": "pyspark",
   "pygments_lexer": "python3"
  }
 },
 "nbformat": 4,
 "nbformat_minor": 4
}
